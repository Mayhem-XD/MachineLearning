{
 "cells": [
  {
   "cell_type": "code",
   "execution_count": 7,
   "metadata": {},
   "outputs": [
    {
     "name": "stdout",
     "output_type": "stream",
     "text": [
      "Linear Regression: r2 = 0.5474, mse = 2934.2784\n",
      "Decision Tree: r2 = -0.2021, mse = 7793.4222\n",
      "SVR: r2 = 0.1736, mse = 5357.8379\n",
      "Random Forest: r2 = 0.4374, mse = 3647.4062\n",
      "Ridge: r2 = 0.4885, mse = 3316.0657\n",
      "Lasso: r2 = 0.3414, mse = 4269.5669\n"
     ]
    }
   ],
   "source": [
    "import numpy as np\n",
    "import pandas as pd\n",
    "from sklearn.datasets import load_diabetes\n",
    "from sklearn.linear_model import LinearRegression, Ridge, Lasso\n",
    "from sklearn.tree import DecisionTreeRegressor\n",
    "from sklearn.ensemble import RandomForestRegressor\n",
    "from sklearn.svm import SVR\n",
    "from sklearn.metrics import mean_squared_error, r2_score\n",
    "\n",
    "diabetes = load_diabetes()\n",
    "df = pd.DataFrame(diabetes.data,columns=diabetes.feature_names)\n",
    "df['target'] = diabetes.target\n",
    "\n",
    "from sklearn.model_selection import train_test_split\n",
    "X_train, X_test, y_train, y_test = train_test_split(\n",
    "    df[df.columns[:-1]],diabetes.target,test_size=0.1,random_state=2023\n",
    ")\n",
    "regrs = {\n",
    "    'Linear Regression': LinearRegression(),\n",
    "    'Decision Tree': DecisionTreeRegressor(random_state=2023),\n",
    "    'SVR': SVR(),\n",
    "    'Random Forest': RandomForestRegressor(random_state=2023),\n",
    "    'Ridge': Ridge(random_state=2023),\n",
    "    'Lasso': Lasso(random_state=2023)\n",
    "}\n",
    "for reg_name, reg in regrs.items():\n",
    "    reg.fit(X_train, y_train)\n",
    "    pred = reg.predict(X_test)\n",
    "    r2 = r2_score(y_test, pred)\n",
    "    mse = mean_squared_error(y_test, pred)\n",
    "    print(f'{reg_name}: r2 = {r2:.4f}, mse = {mse:.4f}')\n",
    "\n",
    "\n",
    "\n"
   ]
  },
  {
   "cell_type": "code",
   "execution_count": null,
   "metadata": {},
   "outputs": [],
   "source": []
  }
 ],
 "metadata": {
  "kernelspec": {
   "display_name": "base",
   "language": "python",
   "name": "python3"
  },
  "language_info": {
   "codemirror_mode": {
    "name": "ipython",
    "version": 3
   },
   "file_extension": ".py",
   "mimetype": "text/x-python",
   "name": "python",
   "nbconvert_exporter": "python",
   "pygments_lexer": "ipython3",
   "version": "3.10.10"
  },
  "orig_nbformat": 4
 },
 "nbformat": 4,
 "nbformat_minor": 2
}
