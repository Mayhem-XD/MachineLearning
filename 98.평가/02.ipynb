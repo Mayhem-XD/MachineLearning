{
 "cells": [
  {
   "cell_type": "code",
   "execution_count": 10,
   "metadata": {},
   "outputs": [],
   "source": [
    "import numpy as np\n",
    "import pandas as pd\n",
    "from sklearn.preprocessing import StandardScaler\n",
    "from sklearn.linear_model import LogisticRegression\n",
    "from sklearn.svm import SVC\n",
    "from sklearn.neighbors import KNeighborsClassifier\n",
    "from sklearn.model_selection import train_test_split\n",
    "from sklearn.preprocessing import MinMaxScaler\n"
   ]
  },
  {
   "cell_type": "code",
   "execution_count": 18,
   "metadata": {},
   "outputs": [],
   "source": [
    "lr = LogisticRegression(random_state=2023)\n",
    "svc = SVC(random_state=2023,probability=True)\n",
    "knn = KNeighborsClassifier()"
   ]
  },
  {
   "cell_type": "code",
   "execution_count": 13,
   "metadata": {},
   "outputs": [
    {
     "data": {
      "text/html": [
       "<div>\n",
       "<style scoped>\n",
       "    .dataframe tbody tr th:only-of-type {\n",
       "        vertical-align: middle;\n",
       "    }\n",
       "\n",
       "    .dataframe tbody tr th {\n",
       "        vertical-align: top;\n",
       "    }\n",
       "\n",
       "    .dataframe thead th {\n",
       "        text-align: right;\n",
       "    }\n",
       "</style>\n",
       "<table border=\"1\" class=\"dataframe\">\n",
       "  <thead>\n",
       "    <tr style=\"text-align: right;\">\n",
       "      <th></th>\n",
       "      <th>P</th>\n",
       "      <th>G</th>\n",
       "      <th>BP</th>\n",
       "      <th>S</th>\n",
       "      <th>I</th>\n",
       "      <th>BMI</th>\n",
       "      <th>D</th>\n",
       "      <th>Age</th>\n",
       "      <th>Target</th>\n",
       "    </tr>\n",
       "  </thead>\n",
       "  <tbody>\n",
       "    <tr>\n",
       "      <th>0</th>\n",
       "      <td>6</td>\n",
       "      <td>148</td>\n",
       "      <td>72</td>\n",
       "      <td>35</td>\n",
       "      <td>0</td>\n",
       "      <td>33.6</td>\n",
       "      <td>0.627</td>\n",
       "      <td>50</td>\n",
       "      <td>1</td>\n",
       "    </tr>\n",
       "    <tr>\n",
       "      <th>1</th>\n",
       "      <td>1</td>\n",
       "      <td>85</td>\n",
       "      <td>66</td>\n",
       "      <td>29</td>\n",
       "      <td>0</td>\n",
       "      <td>26.6</td>\n",
       "      <td>0.351</td>\n",
       "      <td>31</td>\n",
       "      <td>0</td>\n",
       "    </tr>\n",
       "    <tr>\n",
       "      <th>2</th>\n",
       "      <td>8</td>\n",
       "      <td>183</td>\n",
       "      <td>64</td>\n",
       "      <td>0</td>\n",
       "      <td>0</td>\n",
       "      <td>23.3</td>\n",
       "      <td>0.672</td>\n",
       "      <td>32</td>\n",
       "      <td>1</td>\n",
       "    </tr>\n",
       "    <tr>\n",
       "      <th>3</th>\n",
       "      <td>1</td>\n",
       "      <td>89</td>\n",
       "      <td>66</td>\n",
       "      <td>23</td>\n",
       "      <td>94</td>\n",
       "      <td>28.1</td>\n",
       "      <td>0.167</td>\n",
       "      <td>21</td>\n",
       "      <td>0</td>\n",
       "    </tr>\n",
       "    <tr>\n",
       "      <th>4</th>\n",
       "      <td>0</td>\n",
       "      <td>137</td>\n",
       "      <td>40</td>\n",
       "      <td>35</td>\n",
       "      <td>168</td>\n",
       "      <td>43.1</td>\n",
       "      <td>2.288</td>\n",
       "      <td>33</td>\n",
       "      <td>1</td>\n",
       "    </tr>\n",
       "  </tbody>\n",
       "</table>\n",
       "</div>"
      ],
      "text/plain": [
       "   P    G  BP   S    I   BMI      D  Age  Target\n",
       "0  6  148  72  35    0  33.6  0.627   50       1\n",
       "1  1   85  66  29    0  26.6  0.351   31       0\n",
       "2  8  183  64   0    0  23.3  0.672   32       1\n",
       "3  1   89  66  23   94  28.1  0.167   21       0\n",
       "4  0  137  40  35  168  43.1  2.288   33       1"
      ]
     },
     "execution_count": 13,
     "metadata": {},
     "output_type": "execute_result"
    }
   ],
   "source": [
    "df = pd.read_csv('pima-indians-diabetes.csv',skiprows=9,header=None)\n",
    "df.columns = ['P','G','BP','S','I','BMI','D','Age','Target']\n",
    "df.head()"
   ]
  },
  {
   "cell_type": "code",
   "execution_count": 14,
   "metadata": {},
   "outputs": [
    {
     "data": {
      "text/plain": [
       "P         0\n",
       "G         0\n",
       "BP        0\n",
       "S         0\n",
       "I         0\n",
       "BMI       0\n",
       "D         0\n",
       "Age       0\n",
       "Target    0\n",
       "dtype: int64"
      ]
     },
     "execution_count": 14,
     "metadata": {},
     "output_type": "execute_result"
    }
   ],
   "source": [
    "df.isna().sum()"
   ]
  },
  {
   "cell_type": "code",
   "execution_count": 15,
   "metadata": {},
   "outputs": [
    {
     "data": {
      "text/plain": [
       "((768, 8), (768,))"
      ]
     },
     "execution_count": 15,
     "metadata": {},
     "output_type": "execute_result"
    }
   ],
   "source": [
    "df1 = df.iloc[:,:-1]\n",
    "df2 = df.iloc[:,-1]\n",
    "X = df1.values \n",
    "y = df2.values\n",
    "X.shape, y.shape"
   ]
  },
  {
   "cell_type": "code",
   "execution_count": 16,
   "metadata": {},
   "outputs": [],
   "source": [
    "fis = MinMaxScaler().fit_transform(X)\n",
    "X_train, X_test, y_train, y_test = train_test_split(\n",
    "    fis, y, stratify=y, test_size =0.2, random_state=2023\n",
    ")"
   ]
  },
  {
   "cell_type": "code",
   "execution_count": 19,
   "metadata": {},
   "outputs": [
    {
     "data": {
      "text/plain": [
       "{'lr__C': 1, 'svc__C': 1}"
      ]
     },
     "execution_count": 19,
     "metadata": {},
     "output_type": "execute_result"
    }
   ],
   "source": [
    "from sklearn.ensemble import VotingClassifier\n",
    "from sklearn.model_selection import GridSearchCV\n",
    "voc = VotingClassifier(\n",
    "    estimators=[('svc', svc), ('knn', knn), ('lr', lr)],voting='soft'\n",
    ")\n",
    "params = {\n",
    "    'svc__C': [0.1, 1, 10],\n",
    "    'lr__C': [0.1, 1, 10]\n",
    "}\n",
    "grid_voc = GridSearchCV(voc,params,scoring='accuracy',cv=5)\n",
    "grid_voc.fit(X_train,y_train)\n",
    "grid_voc.best_params_"
   ]
  },
  {
   "cell_type": "code",
   "execution_count": 20,
   "metadata": {},
   "outputs": [
    {
     "data": {
      "text/plain": [
       "{'lr__C': 0.5, 'svc__C': 1.5}"
      ]
     },
     "execution_count": 20,
     "metadata": {},
     "output_type": "execute_result"
    }
   ],
   "source": [
    "params = {\n",
    "    'svc__C': [0.5, 1, 1.5],\n",
    "    'lr__C': [0.5, 1, 1.5]\n",
    "}\n",
    "grid_voc = GridSearchCV(voc,params,scoring='accuracy',cv=5)\n",
    "grid_voc.fit(X_train,y_train)\n",
    "grid_voc.best_params_"
   ]
  },
  {
   "cell_type": "code",
   "execution_count": 22,
   "metadata": {},
   "outputs": [
    {
     "data": {
      "text/plain": [
       "{'lr__C': 0.7, 'svc__C': 1.3}"
      ]
     },
     "execution_count": 22,
     "metadata": {},
     "output_type": "execute_result"
    }
   ],
   "source": [
    "params = {\n",
    "    'svc__C': [1.3, 1.5, 2],\n",
    "    'lr__C': [0.2, 0.5, 0.7]\n",
    "}\n",
    "grid_voc = GridSearchCV(voc,params,scoring='accuracy',cv=5)\n",
    "grid_voc.fit(X_train,y_train)\n",
    "grid_voc.best_params_"
   ]
  },
  {
   "cell_type": "code",
   "execution_count": 25,
   "metadata": {},
   "outputs": [
    {
     "name": "stdout",
     "output_type": "stream",
     "text": [
      "Random Forest: 정확도 = 0.7597, 정밀도 = 0.6735, 재현율 = 0.6111\n",
      "XGBoost: 정확도 = 0.7403, 정밀도 = 0.6458, 재현율 = 0.5741\n",
      "[1]\tvalid_0's binary_logloss: 0.615506\n",
      "[2]\tvalid_0's binary_logloss: 0.5971\n",
      "[3]\tvalid_0's binary_logloss: 0.57897\n",
      "[4]\tvalid_0's binary_logloss: 0.562392\n",
      "[5]\tvalid_0's binary_logloss: 0.546361\n",
      "[6]\tvalid_0's binary_logloss: 0.53331\n",
      "[7]\tvalid_0's binary_logloss: 0.523093\n",
      "[8]\tvalid_0's binary_logloss: 0.515014\n",
      "[9]\tvalid_0's binary_logloss: 0.506786\n",
      "[10]\tvalid_0's binary_logloss: 0.503446\n",
      "[11]\tvalid_0's binary_logloss: 0.496683\n",
      "[12]\tvalid_0's binary_logloss: 0.492718\n",
      "[13]\tvalid_0's binary_logloss: 0.488116\n",
      "[14]\tvalid_0's binary_logloss: 0.484265\n",
      "[15]\tvalid_0's binary_logloss: 0.480535\n",
      "[16]\tvalid_0's binary_logloss: 0.481302\n",
      "[17]\tvalid_0's binary_logloss: 0.482878\n",
      "[18]\tvalid_0's binary_logloss: 0.48072\n",
      "[19]\tvalid_0's binary_logloss: 0.479572\n",
      "[20]\tvalid_0's binary_logloss: 0.482852\n",
      "[21]\tvalid_0's binary_logloss: 0.484995\n",
      "[22]\tvalid_0's binary_logloss: 0.487411\n",
      "[23]\tvalid_0's binary_logloss: 0.489001\n",
      "[24]\tvalid_0's binary_logloss: 0.489422\n",
      "[25]\tvalid_0's binary_logloss: 0.487815\n",
      "[26]\tvalid_0's binary_logloss: 0.489107\n",
      "[27]\tvalid_0's binary_logloss: 0.491518\n",
      "[28]\tvalid_0's binary_logloss: 0.492119\n",
      "[29]\tvalid_0's binary_logloss: 0.494294\n",
      "[30]\tvalid_0's binary_logloss: 0.495863\n",
      "[31]\tvalid_0's binary_logloss: 0.496992\n",
      "[32]\tvalid_0's binary_logloss: 0.498565\n",
      "[33]\tvalid_0's binary_logloss: 0.498884\n",
      "[34]\tvalid_0's binary_logloss: 0.498806\n",
      "[35]\tvalid_0's binary_logloss: 0.500714\n",
      "[36]\tvalid_0's binary_logloss: 0.499737\n",
      "[37]\tvalid_0's binary_logloss: 0.502677\n",
      "[38]\tvalid_0's binary_logloss: 0.50455\n",
      "[39]\tvalid_0's binary_logloss: 0.509274\n",
      "[40]\tvalid_0's binary_logloss: 0.512105\n",
      "[41]\tvalid_0's binary_logloss: 0.513932\n",
      "[42]\tvalid_0's binary_logloss: 0.514106\n",
      "[43]\tvalid_0's binary_logloss: 0.517665\n",
      "[44]\tvalid_0's binary_logloss: 0.521465\n",
      "[45]\tvalid_0's binary_logloss: 0.526298\n",
      "[46]\tvalid_0's binary_logloss: 0.528851\n",
      "[47]\tvalid_0's binary_logloss: 0.531918\n",
      "[48]\tvalid_0's binary_logloss: 0.535631\n",
      "[49]\tvalid_0's binary_logloss: 0.541149\n",
      "[50]\tvalid_0's binary_logloss: 0.539357\n",
      "[51]\tvalid_0's binary_logloss: 0.542988\n",
      "[52]\tvalid_0's binary_logloss: 0.544021\n",
      "[53]\tvalid_0's binary_logloss: 0.547556\n",
      "[54]\tvalid_0's binary_logloss: 0.547419\n",
      "[55]\tvalid_0's binary_logloss: 0.549391\n",
      "[56]\tvalid_0's binary_logloss: 0.554772\n",
      "[57]\tvalid_0's binary_logloss: 0.559756\n",
      "[58]\tvalid_0's binary_logloss: 0.562034\n",
      "[59]\tvalid_0's binary_logloss: 0.566029\n",
      "[60]\tvalid_0's binary_logloss: 0.566546\n",
      "[61]\tvalid_0's binary_logloss: 0.566071\n",
      "[62]\tvalid_0's binary_logloss: 0.571826\n",
      "[63]\tvalid_0's binary_logloss: 0.573726\n",
      "[64]\tvalid_0's binary_logloss: 0.575144\n",
      "[65]\tvalid_0's binary_logloss: 0.574938\n",
      "[66]\tvalid_0's binary_logloss: 0.579308\n",
      "[67]\tvalid_0's binary_logloss: 0.582389\n",
      "[68]\tvalid_0's binary_logloss: 0.583431\n",
      "[69]\tvalid_0's binary_logloss: 0.587043\n",
      "[70]\tvalid_0's binary_logloss: 0.590655\n",
      "[71]\tvalid_0's binary_logloss: 0.59519\n",
      "[72]\tvalid_0's binary_logloss: 0.595169\n",
      "[73]\tvalid_0's binary_logloss: 0.596402\n",
      "[74]\tvalid_0's binary_logloss: 0.599141\n",
      "[75]\tvalid_0's binary_logloss: 0.60076\n",
      "[76]\tvalid_0's binary_logloss: 0.605341\n",
      "[77]\tvalid_0's binary_logloss: 0.607412\n",
      "[78]\tvalid_0's binary_logloss: 0.608908\n",
      "[79]\tvalid_0's binary_logloss: 0.61136\n",
      "[80]\tvalid_0's binary_logloss: 0.615735\n",
      "[81]\tvalid_0's binary_logloss: 0.616581\n",
      "[82]\tvalid_0's binary_logloss: 0.617483\n",
      "[83]\tvalid_0's binary_logloss: 0.61892\n",
      "[84]\tvalid_0's binary_logloss: 0.624882\n",
      "[85]\tvalid_0's binary_logloss: 0.629118\n",
      "[86]\tvalid_0's binary_logloss: 0.63562\n",
      "[87]\tvalid_0's binary_logloss: 0.637085\n",
      "[88]\tvalid_0's binary_logloss: 0.63896\n",
      "[89]\tvalid_0's binary_logloss: 0.640473\n",
      "[90]\tvalid_0's binary_logloss: 0.642473\n",
      "[91]\tvalid_0's binary_logloss: 0.644887\n",
      "[92]\tvalid_0's binary_logloss: 0.648319\n",
      "[93]\tvalid_0's binary_logloss: 0.65176\n",
      "[94]\tvalid_0's binary_logloss: 0.653058\n",
      "[95]\tvalid_0's binary_logloss: 0.655241\n",
      "[96]\tvalid_0's binary_logloss: 0.656652\n",
      "[97]\tvalid_0's binary_logloss: 0.659037\n",
      "[98]\tvalid_0's binary_logloss: 0.66178\n",
      "[99]\tvalid_0's binary_logloss: 0.666955\n",
      "[100]\tvalid_0's binary_logloss: 0.671808\n",
      "LGBM: 정확도 = 0.7273, 정밀도 = 0.6200, 재현율 = 0.5741\n"
     ]
    },
    {
     "name": "stderr",
     "output_type": "stream",
     "text": [
      "c:\\Users\\YONSAI\\anaconda3\\lib\\site-packages\\lightgbm\\sklearn.py:736: UserWarning: 'verbose' argument is deprecated and will be removed in a future release of LightGBM. Pass 'log_evaluation()' callback via 'callbacks' argument instead.\n",
      "  _log_warning(\"'verbose' argument is deprecated and will be removed in a future release of LightGBM. \"\n"
     ]
    }
   ],
   "source": [
    "from sklearn.ensemble import RandomForestClassifier\n",
    "from xgboost import XGBClassifier\n",
    "from lightgbm import LGBMClassifier\n",
    "from sklearn.metrics import accuracy_score, precision_score, recall_score\n",
    "classifiers = {\n",
    "    'Random Forest': RandomForestClassifier(random_state=2023),\n",
    "    'XGBoost': XGBClassifier(),\n",
    "    'LGBM': LGBMClassifier(random_state=2023)\n",
    "}\n",
    "for name, clf in classifiers.items():\n",
    "    evals = [(X_test,y_test)]\n",
    "    clf.fit(X_train, y_train) if name != 'LGBM' else clf.fit(X_train, y_train,eval_set=evals,eval_metric='logloss',verbose=True)\n",
    "    pred = clf.predict(X_test)\n",
    "    acc = accuracy_score(y_test, pred)\n",
    "    prc = precision_score(y_test, pred)\n",
    "    rec = recall_score(y_test, pred)\n",
    "    print(f'{name}: 정확도 = {acc:.4f}, 정밀도 = {prc:.4f}, 재현율 = {rec:.4f}')"
   ]
  },
  {
   "cell_type": "code",
   "execution_count": null,
   "metadata": {},
   "outputs": [],
   "source": []
  }
 ],
 "metadata": {
  "kernelspec": {
   "display_name": "base",
   "language": "python",
   "name": "python3"
  },
  "language_info": {
   "codemirror_mode": {
    "name": "ipython",
    "version": 3
   },
   "file_extension": ".py",
   "mimetype": "text/x-python",
   "name": "python",
   "nbconvert_exporter": "python",
   "pygments_lexer": "ipython3",
   "version": "3.10.10"
  },
  "orig_nbformat": 4
 },
 "nbformat": 4,
 "nbformat_minor": 2
}
