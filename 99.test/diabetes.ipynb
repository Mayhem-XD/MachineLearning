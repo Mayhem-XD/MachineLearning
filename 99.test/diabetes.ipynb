{
 "cells": [
  {
   "cell_type": "code",
   "execution_count": 7,
   "metadata": {},
   "outputs": [],
   "source": [
    "import numpy as np\n",
    "import pandas as pd\n",
    "import seaborn as sns\n",
    "import matplotlib.pyplot as plt\n",
    "from sklearn.metrics import r2_score, mean_squared_error"
   ]
  },
  {
   "cell_type": "code",
   "execution_count": 2,
   "metadata": {},
   "outputs": [
    {
     "data": {
      "text/html": [
       "<div>\n",
       "<style scoped>\n",
       "    .dataframe tbody tr th:only-of-type {\n",
       "        vertical-align: middle;\n",
       "    }\n",
       "\n",
       "    .dataframe tbody tr th {\n",
       "        vertical-align: top;\n",
       "    }\n",
       "\n",
       "    .dataframe thead th {\n",
       "        text-align: right;\n",
       "    }\n",
       "</style>\n",
       "<table border=\"1\" class=\"dataframe\">\n",
       "  <thead>\n",
       "    <tr style=\"text-align: right;\">\n",
       "      <th></th>\n",
       "      <th>age</th>\n",
       "      <th>sex</th>\n",
       "      <th>bmi</th>\n",
       "      <th>bp</th>\n",
       "      <th>s1</th>\n",
       "      <th>s2</th>\n",
       "      <th>s3</th>\n",
       "      <th>s4</th>\n",
       "      <th>s5</th>\n",
       "      <th>s6</th>\n",
       "      <th>target</th>\n",
       "    </tr>\n",
       "  </thead>\n",
       "  <tbody>\n",
       "    <tr>\n",
       "      <th>0</th>\n",
       "      <td>0.038076</td>\n",
       "      <td>0.050680</td>\n",
       "      <td>0.061696</td>\n",
       "      <td>0.021872</td>\n",
       "      <td>-0.044223</td>\n",
       "      <td>-0.034821</td>\n",
       "      <td>-0.043401</td>\n",
       "      <td>-0.002592</td>\n",
       "      <td>0.019907</td>\n",
       "      <td>-0.017646</td>\n",
       "      <td>151.0</td>\n",
       "    </tr>\n",
       "    <tr>\n",
       "      <th>1</th>\n",
       "      <td>-0.001882</td>\n",
       "      <td>-0.044642</td>\n",
       "      <td>-0.051474</td>\n",
       "      <td>-0.026328</td>\n",
       "      <td>-0.008449</td>\n",
       "      <td>-0.019163</td>\n",
       "      <td>0.074412</td>\n",
       "      <td>-0.039493</td>\n",
       "      <td>-0.068332</td>\n",
       "      <td>-0.092204</td>\n",
       "      <td>75.0</td>\n",
       "    </tr>\n",
       "    <tr>\n",
       "      <th>2</th>\n",
       "      <td>0.085299</td>\n",
       "      <td>0.050680</td>\n",
       "      <td>0.044451</td>\n",
       "      <td>-0.005670</td>\n",
       "      <td>-0.045599</td>\n",
       "      <td>-0.034194</td>\n",
       "      <td>-0.032356</td>\n",
       "      <td>-0.002592</td>\n",
       "      <td>0.002861</td>\n",
       "      <td>-0.025930</td>\n",
       "      <td>141.0</td>\n",
       "    </tr>\n",
       "    <tr>\n",
       "      <th>3</th>\n",
       "      <td>-0.089063</td>\n",
       "      <td>-0.044642</td>\n",
       "      <td>-0.011595</td>\n",
       "      <td>-0.036656</td>\n",
       "      <td>0.012191</td>\n",
       "      <td>0.024991</td>\n",
       "      <td>-0.036038</td>\n",
       "      <td>0.034309</td>\n",
       "      <td>0.022688</td>\n",
       "      <td>-0.009362</td>\n",
       "      <td>206.0</td>\n",
       "    </tr>\n",
       "    <tr>\n",
       "      <th>4</th>\n",
       "      <td>0.005383</td>\n",
       "      <td>-0.044642</td>\n",
       "      <td>-0.036385</td>\n",
       "      <td>0.021872</td>\n",
       "      <td>0.003935</td>\n",
       "      <td>0.015596</td>\n",
       "      <td>0.008142</td>\n",
       "      <td>-0.002592</td>\n",
       "      <td>-0.031988</td>\n",
       "      <td>-0.046641</td>\n",
       "      <td>135.0</td>\n",
       "    </tr>\n",
       "  </tbody>\n",
       "</table>\n",
       "</div>"
      ],
      "text/plain": [
       "        age       sex       bmi        bp        s1        s2        s3   \n",
       "0  0.038076  0.050680  0.061696  0.021872 -0.044223 -0.034821 -0.043401  \\\n",
       "1 -0.001882 -0.044642 -0.051474 -0.026328 -0.008449 -0.019163  0.074412   \n",
       "2  0.085299  0.050680  0.044451 -0.005670 -0.045599 -0.034194 -0.032356   \n",
       "3 -0.089063 -0.044642 -0.011595 -0.036656  0.012191  0.024991 -0.036038   \n",
       "4  0.005383 -0.044642 -0.036385  0.021872  0.003935  0.015596  0.008142   \n",
       "\n",
       "         s4        s5        s6  target  \n",
       "0 -0.002592  0.019907 -0.017646   151.0  \n",
       "1 -0.039493 -0.068332 -0.092204    75.0  \n",
       "2 -0.002592  0.002861 -0.025930   141.0  \n",
       "3  0.034309  0.022688 -0.009362   206.0  \n",
       "4 -0.002592 -0.031988 -0.046641   135.0  "
      ]
     },
     "execution_count": 2,
     "metadata": {},
     "output_type": "execute_result"
    }
   ],
   "source": [
    "from sklearn.datasets import load_diabetes\n",
    "diabetes = load_diabetes()\n",
    "df = pd.DataFrame(diabetes.data,columns=diabetes.feature_names)\n",
    "df['target'] = diabetes.target\n",
    "df.head()"
   ]
  },
  {
   "cell_type": "code",
   "execution_count": 3,
   "metadata": {},
   "outputs": [],
   "source": [
    "from sklearn.linear_model import LinearRegression\n",
    "lr = LinearRegression()"
   ]
  },
  {
   "cell_type": "code",
   "execution_count": 4,
   "metadata": {},
   "outputs": [
    {
     "name": "stdout",
     "output_type": "stream",
     "text": [
      "age: 0.0353\n",
      "sex: 0.0019\n",
      "bmi: 0.3439\n",
      "bp: 0.1949\n",
      "s1: 0.0450\n",
      "s2: 0.0303\n",
      "s3: 0.1559\n",
      "s4: 0.1853\n",
      "s5: 0.3202\n",
      "s6: 0.1463\n"
     ]
    }
   ],
   "source": [
    "for feature in df.columns[:-1]:\n",
    "    X = df[feature].values.reshape(-1,1)\n",
    "    lr.fit(X,diabetes.target)\n",
    "    score = lr.score(X,diabetes.target)\n",
    "    print(f'{feature}: {score:.4f}')"
   ]
  },
  {
   "cell_type": "code",
   "execution_count": 6,
   "metadata": {},
   "outputs": [
    {
     "data": {
      "text/plain": [
       "((397, 10), (45, 10), (397,), (45,))"
      ]
     },
     "execution_count": 6,
     "metadata": {},
     "output_type": "execute_result"
    }
   ],
   "source": [
    "from sklearn.model_selection import train_test_split\n",
    "X_train, X_test, y_train, y_test = train_test_split(\n",
    "    df[df.columns[:-1]],diabetes.target,test_size=0.1,random_state=2023\n",
    ")\n",
    "X_train.shape, X_test.shape, y_train.shape, y_test.shape "
   ]
  },
  {
   "cell_type": "code",
   "execution_count": 9,
   "metadata": {},
   "outputs": [],
   "source": [
    "lr.fit(X_train,y_train)\n",
    "pred_lr = lr.predict(X_test)\n",
    "r2_lr = r2_score(y_test,pred_lr)\n",
    "mse_lr = mean_squared_error(y_test,pred_lr)"
   ]
  },
  {
   "cell_type": "code",
   "execution_count": 10,
   "metadata": {},
   "outputs": [],
   "source": [
    "from xgboost import XGBRegressor\n",
    "xgr = XGBRegressor()\n",
    "xgr.fit(X_train,y_train)\n",
    "pred_xg = xgr.predict(X_test)\n",
    "r2_xg = r2_score(y_test,pred_xg)\n",
    "mse_xg = mean_squared_error(y_test,pred_xg)"
   ]
  },
  {
   "cell_type": "code",
   "execution_count": 11,
   "metadata": {},
   "outputs": [],
   "source": [
    "from sklearn.ensemble import RandomForestRegressor\n",
    "rfr = RandomForestRegressor(random_state=2023)\n",
    "rfr.fit(X_train,y_train)\n",
    "pred_rf = rfr.predict(X_test)\n",
    "r2_rf = r2_score(y_test,pred_rf)\n",
    "mse_rf = mean_squared_error(y_test,pred_rf)"
   ]
  },
  {
   "cell_type": "code",
   "execution_count": 12,
   "metadata": {},
   "outputs": [],
   "source": [
    "from sklearn.linear_model import Ridge\n",
    "ridge = Ridge(random_state=2023)\n",
    "ridge.fit(X_train,y_train)\n",
    "pred_rg = ridge.predict(X_test)\n",
    "r2_rg = r2_score(y_test,pred_rg)\n",
    "mse_rg = mean_squared_error(y_test,pred_rg)"
   ]
  },
  {
   "cell_type": "code",
   "execution_count": 13,
   "metadata": {},
   "outputs": [],
   "source": [
    "from sklearn.linear_model import Lasso\n",
    "lasso = Lasso(random_state=2023)\n",
    "lasso.fit(X_train,y_train)\n",
    "pred_ls = lasso.predict(X_test)\n",
    "r2_ls = r2_score(y_test,pred_ls)\n",
    "mse_ls = mean_squared_error(y_test,pred_ls)"
   ]
  },
  {
   "cell_type": "code",
   "execution_count": 14,
   "metadata": {},
   "outputs": [],
   "source": [
    "from sklearn.svm import SVR\n",
    "svr = SVR()\n",
    "svr.fit(X_train,y_train)\n",
    "pred_sv = svr.predict(X_test)\n",
    "r2_sv = r2_score(y_test,pred_sv)\n",
    "mse_sv = mean_squared_error(y_test,pred_sv)"
   ]
  },
  {
   "cell_type": "code",
   "execution_count": 18,
   "metadata": {},
   "outputs": [
    {
     "name": "stdout",
     "output_type": "stream",
     "text": [
      "\t\tLR\tSVR\tRF\tXG\tRidge\tLasso\n",
      "R squared\t0.5474\t0.1736\t0.4374\t0.3298\t0.4885\t0.3414\n",
      "Mean squared E\t2934.2784\t5357.8379\t3647.4062\t4345.2940\t3316.0657\t4269.5669\n",
      "Predict \t164.4388651998387\t144.19058863278286\t196.66\t240.08616638183594\t160.15143475250605\t163.22832221493147\n"
     ]
    }
   ],
   "source": [
    "print('\\t\\tLR\\tSVR\\tRF\\tXG\\tRidge\\tLasso')\n",
    "print(f'R squared\\t{r2_lr:.4f}\\t{r2_sv:.4f}\\t{r2_rf:.4f}\\t{r2_xg:.4f}\\t{r2_rg:.4f}\\t{r2_ls:.4f}')\n",
    "print(f'Mean squared E\\t{mse_lr:.4f}\\t{mse_sv:.4f}\\t{mse_rf:.4f}\\t{mse_xg:.4f}\\t{mse_rg:.4f}\\t{mse_ls:.4f}')\n",
    "print(f'Predict \\t{pred_lr[0]}\\t{pred_sv[0]}\\t{pred_rf[0]}\\t{pred_xg[0]}\\t{pred_rg[0]}\\t{pred_ls[0]}')"
   ]
  },
  {
   "cell_type": "code",
   "execution_count": 19,
   "metadata": {},
   "outputs": [
    {
     "data": {
      "text/html": [
       "<div>\n",
       "<style scoped>\n",
       "    .dataframe tbody tr th:only-of-type {\n",
       "        vertical-align: middle;\n",
       "    }\n",
       "\n",
       "    .dataframe tbody tr th {\n",
       "        vertical-align: top;\n",
       "    }\n",
       "\n",
       "    .dataframe thead th {\n",
       "        text-align: right;\n",
       "    }\n",
       "</style>\n",
       "<table border=\"1\" class=\"dataframe\">\n",
       "  <thead>\n",
       "    <tr style=\"text-align: right;\">\n",
       "      <th></th>\n",
       "      <th>Y</th>\n",
       "      <th>LR</th>\n",
       "      <th>SVR</th>\n",
       "      <th>RF</th>\n",
       "      <th>XG</th>\n",
       "      <th>Ridge</th>\n",
       "      <th>Lasso</th>\n",
       "    </tr>\n",
       "  </thead>\n",
       "  <tbody>\n",
       "    <tr>\n",
       "      <th>0</th>\n",
       "      <td>265.0</td>\n",
       "      <td>164.438865</td>\n",
       "      <td>144.190589</td>\n",
       "      <td>196.66</td>\n",
       "      <td>240.086166</td>\n",
       "      <td>160.151435</td>\n",
       "      <td>163.228322</td>\n",
       "    </tr>\n",
       "    <tr>\n",
       "      <th>1</th>\n",
       "      <td>261.0</td>\n",
       "      <td>230.141881</td>\n",
       "      <td>157.247371</td>\n",
       "      <td>257.69</td>\n",
       "      <td>294.357269</td>\n",
       "      <td>202.152287</td>\n",
       "      <td>185.709959</td>\n",
       "    </tr>\n",
       "    <tr>\n",
       "      <th>2</th>\n",
       "      <td>160.0</td>\n",
       "      <td>112.861523</td>\n",
       "      <td>126.542081</td>\n",
       "      <td>82.91</td>\n",
       "      <td>69.451904</td>\n",
       "      <td>130.893089</td>\n",
       "      <td>136.437283</td>\n",
       "    </tr>\n",
       "    <tr>\n",
       "      <th>3</th>\n",
       "      <td>249.0</td>\n",
       "      <td>205.771219</td>\n",
       "      <td>155.329271</td>\n",
       "      <td>162.19</td>\n",
       "      <td>135.287415</td>\n",
       "      <td>193.404176</td>\n",
       "      <td>172.572808</td>\n",
       "    </tr>\n",
       "    <tr>\n",
       "      <th>4</th>\n",
       "      <td>102.0</td>\n",
       "      <td>105.694296</td>\n",
       "      <td>129.916467</td>\n",
       "      <td>89.69</td>\n",
       "      <td>63.781631</td>\n",
       "      <td>130.014978</td>\n",
       "      <td>125.594654</td>\n",
       "    </tr>\n",
       "    <tr>\n",
       "      <th>5</th>\n",
       "      <td>200.0</td>\n",
       "      <td>181.051091</td>\n",
       "      <td>144.854240</td>\n",
       "      <td>164.64</td>\n",
       "      <td>148.613083</td>\n",
       "      <td>168.462653</td>\n",
       "      <td>171.165806</td>\n",
       "    </tr>\n",
       "    <tr>\n",
       "      <th>6</th>\n",
       "      <td>42.0</td>\n",
       "      <td>82.067894</td>\n",
       "      <td>119.731117</td>\n",
       "      <td>96.46</td>\n",
       "      <td>97.405067</td>\n",
       "      <td>104.536203</td>\n",
       "      <td>109.488925</td>\n",
       "    </tr>\n",
       "    <tr>\n",
       "      <th>7</th>\n",
       "      <td>55.0</td>\n",
       "      <td>77.253222</td>\n",
       "      <td>129.977129</td>\n",
       "      <td>141.39</td>\n",
       "      <td>97.169762</td>\n",
       "      <td>94.529760</td>\n",
       "      <td>111.518618</td>\n",
       "    </tr>\n",
       "    <tr>\n",
       "      <th>8</th>\n",
       "      <td>178.0</td>\n",
       "      <td>128.891822</td>\n",
       "      <td>131.056091</td>\n",
       "      <td>145.14</td>\n",
       "      <td>157.598083</td>\n",
       "      <td>131.573181</td>\n",
       "      <td>138.565391</td>\n",
       "    </tr>\n",
       "    <tr>\n",
       "      <th>9</th>\n",
       "      <td>317.0</td>\n",
       "      <td>226.235038</td>\n",
       "      <td>150.626285</td>\n",
       "      <td>193.59</td>\n",
       "      <td>207.042252</td>\n",
       "      <td>208.643264</td>\n",
       "      <td>182.521455</td>\n",
       "    </tr>\n",
       "  </tbody>\n",
       "</table>\n",
       "</div>"
      ],
      "text/plain": [
       "       Y          LR         SVR      RF          XG       Ridge       Lasso\n",
       "0  265.0  164.438865  144.190589  196.66  240.086166  160.151435  163.228322\n",
       "1  261.0  230.141881  157.247371  257.69  294.357269  202.152287  185.709959\n",
       "2  160.0  112.861523  126.542081   82.91   69.451904  130.893089  136.437283\n",
       "3  249.0  205.771219  155.329271  162.19  135.287415  193.404176  172.572808\n",
       "4  102.0  105.694296  129.916467   89.69   63.781631  130.014978  125.594654\n",
       "5  200.0  181.051091  144.854240  164.64  148.613083  168.462653  171.165806\n",
       "6   42.0   82.067894  119.731117   96.46   97.405067  104.536203  109.488925\n",
       "7   55.0   77.253222  129.977129  141.39   97.169762   94.529760  111.518618\n",
       "8  178.0  128.891822  131.056091  145.14  157.598083  131.573181  138.565391\n",
       "9  317.0  226.235038  150.626285  193.59  207.042252  208.643264  182.521455"
      ]
     },
     "execution_count": 19,
     "metadata": {},
     "output_type": "execute_result"
    }
   ],
   "source": [
    "df = pd.DataFrame({\n",
    "    'Y':y_test,'LR':pred_lr,'SVR':pred_sv, 'RF':pred_rf,'XG':pred_xg,'Ridge':pred_rg,'Lasso':pred_ls\n",
    "})\n",
    "df.head(10)"
   ]
  },
  {
   "cell_type": "code",
   "execution_count": null,
   "metadata": {},
   "outputs": [],
   "source": []
  }
 ],
 "metadata": {
  "kernelspec": {
   "display_name": "base",
   "language": "python",
   "name": "python3"
  },
  "language_info": {
   "codemirror_mode": {
    "name": "ipython",
    "version": 3
   },
   "file_extension": ".py",
   "mimetype": "text/x-python",
   "name": "python",
   "nbconvert_exporter": "python",
   "pygments_lexer": "ipython3",
   "version": "3.10.10"
  },
  "orig_nbformat": 4
 },
 "nbformat": 4,
 "nbformat_minor": 2
}
