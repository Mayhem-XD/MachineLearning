{
 "cells": [
  {
   "cell_type": "code",
   "execution_count": 28,
   "metadata": {},
   "outputs": [],
   "source": [
    "import numpy as np\n",
    "import pandas as pd\n",
    "from sklearn.preprocessing import StandardScaler\n",
    "from sklearn.model_selection import train_test_split\n",
    "from lightgbm import LGBMClassifier\n",
    "import matplotlib.pyplot as plt"
   ]
  },
  {
   "cell_type": "code",
   "execution_count": 29,
   "metadata": {},
   "outputs": [
    {
     "data": {
      "text/html": [
       "<div>\n",
       "<style scoped>\n",
       "    .dataframe tbody tr th:only-of-type {\n",
       "        vertical-align: middle;\n",
       "    }\n",
       "\n",
       "    .dataframe tbody tr th {\n",
       "        vertical-align: top;\n",
       "    }\n",
       "\n",
       "    .dataframe thead th {\n",
       "        text-align: right;\n",
       "    }\n",
       "</style>\n",
       "<table border=\"1\" class=\"dataframe\">\n",
       "  <thead>\n",
       "    <tr style=\"text-align: right;\">\n",
       "      <th></th>\n",
       "      <th>fixed acidity</th>\n",
       "      <th>volatile acidity</th>\n",
       "      <th>citric acid</th>\n",
       "      <th>residual sugar</th>\n",
       "      <th>chlorides</th>\n",
       "      <th>free sulfur dioxide</th>\n",
       "      <th>total sulfur dioxide</th>\n",
       "      <th>density</th>\n",
       "      <th>pH</th>\n",
       "      <th>sulphates</th>\n",
       "      <th>alcohol</th>\n",
       "      <th>quality</th>\n",
       "    </tr>\n",
       "  </thead>\n",
       "  <tbody>\n",
       "    <tr>\n",
       "      <th>0</th>\n",
       "      <td>7.4</td>\n",
       "      <td>0.70</td>\n",
       "      <td>0.00</td>\n",
       "      <td>1.9</td>\n",
       "      <td>0.076</td>\n",
       "      <td>11.0</td>\n",
       "      <td>34.0</td>\n",
       "      <td>0.9978</td>\n",
       "      <td>3.51</td>\n",
       "      <td>0.56</td>\n",
       "      <td>9.4</td>\n",
       "      <td>5</td>\n",
       "    </tr>\n",
       "    <tr>\n",
       "      <th>1</th>\n",
       "      <td>7.8</td>\n",
       "      <td>0.88</td>\n",
       "      <td>0.00</td>\n",
       "      <td>2.6</td>\n",
       "      <td>0.098</td>\n",
       "      <td>25.0</td>\n",
       "      <td>67.0</td>\n",
       "      <td>0.9968</td>\n",
       "      <td>3.20</td>\n",
       "      <td>0.68</td>\n",
       "      <td>9.8</td>\n",
       "      <td>5</td>\n",
       "    </tr>\n",
       "    <tr>\n",
       "      <th>2</th>\n",
       "      <td>7.8</td>\n",
       "      <td>0.76</td>\n",
       "      <td>0.04</td>\n",
       "      <td>2.3</td>\n",
       "      <td>0.092</td>\n",
       "      <td>15.0</td>\n",
       "      <td>54.0</td>\n",
       "      <td>0.9970</td>\n",
       "      <td>3.26</td>\n",
       "      <td>0.65</td>\n",
       "      <td>9.8</td>\n",
       "      <td>5</td>\n",
       "    </tr>\n",
       "    <tr>\n",
       "      <th>3</th>\n",
       "      <td>11.2</td>\n",
       "      <td>0.28</td>\n",
       "      <td>0.56</td>\n",
       "      <td>1.9</td>\n",
       "      <td>0.075</td>\n",
       "      <td>17.0</td>\n",
       "      <td>60.0</td>\n",
       "      <td>0.9980</td>\n",
       "      <td>3.16</td>\n",
       "      <td>0.58</td>\n",
       "      <td>9.8</td>\n",
       "      <td>6</td>\n",
       "    </tr>\n",
       "    <tr>\n",
       "      <th>4</th>\n",
       "      <td>7.4</td>\n",
       "      <td>0.70</td>\n",
       "      <td>0.00</td>\n",
       "      <td>1.9</td>\n",
       "      <td>0.076</td>\n",
       "      <td>11.0</td>\n",
       "      <td>34.0</td>\n",
       "      <td>0.9978</td>\n",
       "      <td>3.51</td>\n",
       "      <td>0.56</td>\n",
       "      <td>9.4</td>\n",
       "      <td>5</td>\n",
       "    </tr>\n",
       "  </tbody>\n",
       "</table>\n",
       "</div>"
      ],
      "text/plain": [
       "   fixed acidity  volatile acidity  citric acid  residual sugar  chlorides   \n",
       "0            7.4              0.70         0.00             1.9      0.076  \\\n",
       "1            7.8              0.88         0.00             2.6      0.098   \n",
       "2            7.8              0.76         0.04             2.3      0.092   \n",
       "3           11.2              0.28         0.56             1.9      0.075   \n",
       "4            7.4              0.70         0.00             1.9      0.076   \n",
       "\n",
       "   free sulfur dioxide  total sulfur dioxide  density    pH  sulphates   \n",
       "0                 11.0                  34.0   0.9978  3.51       0.56  \\\n",
       "1                 25.0                  67.0   0.9968  3.20       0.68   \n",
       "2                 15.0                  54.0   0.9970  3.26       0.65   \n",
       "3                 17.0                  60.0   0.9980  3.16       0.58   \n",
       "4                 11.0                  34.0   0.9978  3.51       0.56   \n",
       "\n",
       "   alcohol  quality  \n",
       "0      9.4        5  \n",
       "1      9.8        5  \n",
       "2      9.8        5  \n",
       "3      9.8        6  \n",
       "4      9.4        5  "
      ]
     },
     "execution_count": 29,
     "metadata": {},
     "output_type": "execute_result"
    }
   ],
   "source": [
    "rw = pd.read_csv('data/winequality-red.csv')\n",
    "rw.head()"
   ]
  },
  {
   "cell_type": "code",
   "execution_count": 30,
   "metadata": {},
   "outputs": [
    {
     "data": {
      "text/plain": [
       "quality\n",
       "5    681\n",
       "6    638\n",
       "7    199\n",
       "4     53\n",
       "8     18\n",
       "3     10\n",
       "Name: count, dtype: int64"
      ]
     },
     "execution_count": 30,
     "metadata": {},
     "output_type": "execute_result"
    }
   ],
   "source": [
    "rw.quality.value_counts()"
   ]
  },
  {
   "cell_type": "code",
   "execution_count": 31,
   "metadata": {},
   "outputs": [
    {
     "data": {
      "text/plain": [
       "0"
      ]
     },
     "execution_count": 31,
     "metadata": {},
     "output_type": "execute_result"
    }
   ],
   "source": [
    "rw['target'] = rw.quality.apply(lambda x:1 if x >=6 else 0)\n",
    "rw.isna().sum().sum()"
   ]
  },
  {
   "cell_type": "code",
   "execution_count": 32,
   "metadata": {},
   "outputs": [],
   "source": [
    "X = rw.iloc[:,:-2].values\n",
    "y = rw.target.values"
   ]
  },
  {
   "cell_type": "code",
   "execution_count": 33,
   "metadata": {},
   "outputs": [],
   "source": [
    "X_std = StandardScaler().fit_transform(X)"
   ]
  },
  {
   "cell_type": "code",
   "execution_count": 34,
   "metadata": {},
   "outputs": [],
   "source": [
    "X_train, X_test, y_train, y_test = train_test_split(\n",
    "    X,y,stratify=y,test_size=0.2,random_state=2023\n",
    ")"
   ]
  },
  {
   "cell_type": "code",
   "execution_count": 35,
   "metadata": {},
   "outputs": [],
   "source": [
    "from xgboost import XGBClassifier\n",
    "xgb = XGBClassifier(learning_rate=0.2,max_depth=6)"
   ]
  },
  {
   "cell_type": "code",
   "execution_count": 36,
   "metadata": {},
   "outputs": [
    {
     "data": {
      "text/plain": [
       "0.840625"
      ]
     },
     "execution_count": 36,
     "metadata": {},
     "output_type": "execute_result"
    }
   ],
   "source": [
    "xgb.fit(X_train,y_train)\n",
    "pred_xgb =xgb.predict(X_test)\n",
    "xgb.score(X_test,y_test)"
   ]
  },
  {
   "cell_type": "code",
   "execution_count": 37,
   "metadata": {},
   "outputs": [],
   "source": [
    "params = {\n",
    "    'max_depth':[5,6,7],\n",
    "    'learning_rate' : [0.03,0.05,0.07]\n",
    "}"
   ]
  },
  {
   "cell_type": "code",
   "execution_count": 38,
   "metadata": {},
   "outputs": [
    {
     "data": {
      "text/plain": [
       "{'learning_rate': 0.05, 'max_depth': 6}"
      ]
     },
     "execution_count": 38,
     "metadata": {},
     "output_type": "execute_result"
    }
   ],
   "source": [
    "from sklearn.model_selection import GridSearchCV\n",
    "grid_xgb = GridSearchCV(xgb,params,scoring='accuracy',cv=5)\n",
    "grid_xgb.fit(X_test,y_test)\n",
    "grid_xgb.best_params_"
   ]
  },
  {
   "cell_type": "code",
   "execution_count": 51,
   "metadata": {},
   "outputs": [
    {
     "data": {
      "text/plain": [
       "0.8"
      ]
     },
     "execution_count": 51,
     "metadata": {},
     "output_type": "execute_result"
    }
   ],
   "source": [
    "pred_xgb = xgb.predict(X_test)\n",
    "grid_xgb.best_score_"
   ]
  },
  {
   "cell_type": "code",
   "execution_count": 41,
   "metadata": {},
   "outputs": [
    {
     "name": "stdout",
     "output_type": "stream",
     "text": [
      "[1]\tvalid_0's binary_logloss: 0.653161\n",
      "[2]\tvalid_0's binary_logloss: 0.62463\n",
      "[3]\tvalid_0's binary_logloss: 0.595092\n",
      "[4]\tvalid_0's binary_logloss: 0.57082\n",
      "[5]\tvalid_0's binary_logloss: 0.549098\n",
      "[6]\tvalid_0's binary_logloss: 0.531596\n",
      "[7]\tvalid_0's binary_logloss: 0.51583\n",
      "[8]\tvalid_0's binary_logloss: 0.50344\n",
      "[9]\tvalid_0's binary_logloss: 0.492348\n",
      "[10]\tvalid_0's binary_logloss: 0.483075\n",
      "[11]\tvalid_0's binary_logloss: 0.472153\n",
      "[12]\tvalid_0's binary_logloss: 0.464091\n",
      "[13]\tvalid_0's binary_logloss: 0.459307\n",
      "[14]\tvalid_0's binary_logloss: 0.45308\n",
      "[15]\tvalid_0's binary_logloss: 0.447731\n",
      "[16]\tvalid_0's binary_logloss: 0.439588\n",
      "[17]\tvalid_0's binary_logloss: 0.433313\n",
      "[18]\tvalid_0's binary_logloss: 0.43065\n",
      "[19]\tvalid_0's binary_logloss: 0.43001\n",
      "[20]\tvalid_0's binary_logloss: 0.425872\n",
      "[21]\tvalid_0's binary_logloss: 0.421644\n",
      "[22]\tvalid_0's binary_logloss: 0.417868\n",
      "[23]\tvalid_0's binary_logloss: 0.413767\n",
      "[24]\tvalid_0's binary_logloss: 0.411254\n",
      "[25]\tvalid_0's binary_logloss: 0.411105\n",
      "[26]\tvalid_0's binary_logloss: 0.409487\n",
      "[27]\tvalid_0's binary_logloss: 0.407961\n",
      "[28]\tvalid_0's binary_logloss: 0.407375\n",
      "[29]\tvalid_0's binary_logloss: 0.408173\n",
      "[30]\tvalid_0's binary_logloss: 0.406522\n",
      "[31]\tvalid_0's binary_logloss: 0.404675\n",
      "[32]\tvalid_0's binary_logloss: 0.403586\n",
      "[33]\tvalid_0's binary_logloss: 0.40266\n",
      "[34]\tvalid_0's binary_logloss: 0.404904\n",
      "[35]\tvalid_0's binary_logloss: 0.402627\n",
      "[36]\tvalid_0's binary_logloss: 0.404541\n",
      "[37]\tvalid_0's binary_logloss: 0.403295\n",
      "[38]\tvalid_0's binary_logloss: 0.402747\n",
      "[39]\tvalid_0's binary_logloss: 0.402218\n",
      "[40]\tvalid_0's binary_logloss: 0.401152\n",
      "[41]\tvalid_0's binary_logloss: 0.398664\n",
      "[42]\tvalid_0's binary_logloss: 0.399686\n",
      "[43]\tvalid_0's binary_logloss: 0.399503\n",
      "[44]\tvalid_0's binary_logloss: 0.399252\n",
      "[45]\tvalid_0's binary_logloss: 0.397266\n",
      "[46]\tvalid_0's binary_logloss: 0.398315\n",
      "[47]\tvalid_0's binary_logloss: 0.397719\n",
      "[48]\tvalid_0's binary_logloss: 0.397379\n",
      "[49]\tvalid_0's binary_logloss: 0.398879\n",
      "[50]\tvalid_0's binary_logloss: 0.398128\n",
      "[51]\tvalid_0's binary_logloss: 0.398793\n",
      "[52]\tvalid_0's binary_logloss: 0.400208\n",
      "[53]\tvalid_0's binary_logloss: 0.399706\n",
      "[54]\tvalid_0's binary_logloss: 0.39971\n",
      "[55]\tvalid_0's binary_logloss: 0.400681\n",
      "[56]\tvalid_0's binary_logloss: 0.402436\n",
      "[57]\tvalid_0's binary_logloss: 0.403803\n",
      "[58]\tvalid_0's binary_logloss: 0.40468\n",
      "[59]\tvalid_0's binary_logloss: 0.404652\n",
      "[60]\tvalid_0's binary_logloss: 0.406316\n",
      "[61]\tvalid_0's binary_logloss: 0.406377\n",
      "[62]\tvalid_0's binary_logloss: 0.405135\n",
      "[63]\tvalid_0's binary_logloss: 0.404578\n",
      "[64]\tvalid_0's binary_logloss: 0.404194\n",
      "[65]\tvalid_0's binary_logloss: 0.403236\n",
      "[66]\tvalid_0's binary_logloss: 0.403587\n",
      "[67]\tvalid_0's binary_logloss: 0.402135\n",
      "[68]\tvalid_0's binary_logloss: 0.402103\n",
      "[69]\tvalid_0's binary_logloss: 0.401131\n",
      "[70]\tvalid_0's binary_logloss: 0.401474\n",
      "[71]\tvalid_0's binary_logloss: 0.401522\n",
      "[72]\tvalid_0's binary_logloss: 0.402052\n",
      "[73]\tvalid_0's binary_logloss: 0.402547\n",
      "[74]\tvalid_0's binary_logloss: 0.403216\n",
      "[75]\tvalid_0's binary_logloss: 0.401509\n",
      "[76]\tvalid_0's binary_logloss: 0.401238\n",
      "[77]\tvalid_0's binary_logloss: 0.401067\n",
      "[78]\tvalid_0's binary_logloss: 0.401601\n",
      "[79]\tvalid_0's binary_logloss: 0.403875\n",
      "[80]\tvalid_0's binary_logloss: 0.404167\n",
      "[81]\tvalid_0's binary_logloss: 0.406932\n",
      "[82]\tvalid_0's binary_logloss: 0.407238\n",
      "[83]\tvalid_0's binary_logloss: 0.406955\n",
      "[84]\tvalid_0's binary_logloss: 0.407471\n",
      "[85]\tvalid_0's binary_logloss: 0.408126\n",
      "[86]\tvalid_0's binary_logloss: 0.408786\n",
      "[87]\tvalid_0's binary_logloss: 0.409493\n",
      "[88]\tvalid_0's binary_logloss: 0.410343\n",
      "[89]\tvalid_0's binary_logloss: 0.411142\n",
      "[90]\tvalid_0's binary_logloss: 0.41115\n",
      "[91]\tvalid_0's binary_logloss: 0.410532\n",
      "[92]\tvalid_0's binary_logloss: 0.410683\n",
      "[93]\tvalid_0's binary_logloss: 0.411513\n",
      "[94]\tvalid_0's binary_logloss: 0.412439\n",
      "[95]\tvalid_0's binary_logloss: 0.413526\n",
      "[96]\tvalid_0's binary_logloss: 0.413995\n",
      "[97]\tvalid_0's binary_logloss: 0.416303\n",
      "[98]\tvalid_0's binary_logloss: 0.416108\n",
      "[99]\tvalid_0's binary_logloss: 0.416086\n",
      "[100]\tvalid_0's binary_logloss: 0.415432\n"
     ]
    },
    {
     "name": "stderr",
     "output_type": "stream",
     "text": [
      "c:\\Users\\YONSAI\\anaconda3\\lib\\site-packages\\lightgbm\\sklearn.py:736: UserWarning: 'verbose' argument is deprecated and will be removed in a future release of LightGBM. Pass 'log_evaluation()' callback via 'callbacks' argument instead.\n",
      "  _log_warning(\"'verbose' argument is deprecated and will be removed in a future release of LightGBM. \"\n"
     ]
    },
    {
     "data": {
      "text/html": [
       "<style>#sk-container-id-2 {color: black;background-color: white;}#sk-container-id-2 pre{padding: 0;}#sk-container-id-2 div.sk-toggleable {background-color: white;}#sk-container-id-2 label.sk-toggleable__label {cursor: pointer;display: block;width: 100%;margin-bottom: 0;padding: 0.3em;box-sizing: border-box;text-align: center;}#sk-container-id-2 label.sk-toggleable__label-arrow:before {content: \"▸\";float: left;margin-right: 0.25em;color: #696969;}#sk-container-id-2 label.sk-toggleable__label-arrow:hover:before {color: black;}#sk-container-id-2 div.sk-estimator:hover label.sk-toggleable__label-arrow:before {color: black;}#sk-container-id-2 div.sk-toggleable__content {max-height: 0;max-width: 0;overflow: hidden;text-align: left;background-color: #f0f8ff;}#sk-container-id-2 div.sk-toggleable__content pre {margin: 0.2em;color: black;border-radius: 0.25em;background-color: #f0f8ff;}#sk-container-id-2 input.sk-toggleable__control:checked~div.sk-toggleable__content {max-height: 200px;max-width: 100%;overflow: auto;}#sk-container-id-2 input.sk-toggleable__control:checked~label.sk-toggleable__label-arrow:before {content: \"▾\";}#sk-container-id-2 div.sk-estimator input.sk-toggleable__control:checked~label.sk-toggleable__label {background-color: #d4ebff;}#sk-container-id-2 div.sk-label input.sk-toggleable__control:checked~label.sk-toggleable__label {background-color: #d4ebff;}#sk-container-id-2 input.sk-hidden--visually {border: 0;clip: rect(1px 1px 1px 1px);clip: rect(1px, 1px, 1px, 1px);height: 1px;margin: -1px;overflow: hidden;padding: 0;position: absolute;width: 1px;}#sk-container-id-2 div.sk-estimator {font-family: monospace;background-color: #f0f8ff;border: 1px dotted black;border-radius: 0.25em;box-sizing: border-box;margin-bottom: 0.5em;}#sk-container-id-2 div.sk-estimator:hover {background-color: #d4ebff;}#sk-container-id-2 div.sk-parallel-item::after {content: \"\";width: 100%;border-bottom: 1px solid gray;flex-grow: 1;}#sk-container-id-2 div.sk-label:hover label.sk-toggleable__label {background-color: #d4ebff;}#sk-container-id-2 div.sk-serial::before {content: \"\";position: absolute;border-left: 1px solid gray;box-sizing: border-box;top: 0;bottom: 0;left: 50%;z-index: 0;}#sk-container-id-2 div.sk-serial {display: flex;flex-direction: column;align-items: center;background-color: white;padding-right: 0.2em;padding-left: 0.2em;position: relative;}#sk-container-id-2 div.sk-item {position: relative;z-index: 1;}#sk-container-id-2 div.sk-parallel {display: flex;align-items: stretch;justify-content: center;background-color: white;position: relative;}#sk-container-id-2 div.sk-item::before, #sk-container-id-2 div.sk-parallel-item::before {content: \"\";position: absolute;border-left: 1px solid gray;box-sizing: border-box;top: 0;bottom: 0;left: 50%;z-index: -1;}#sk-container-id-2 div.sk-parallel-item {display: flex;flex-direction: column;z-index: 1;position: relative;background-color: white;}#sk-container-id-2 div.sk-parallel-item:first-child::after {align-self: flex-end;width: 50%;}#sk-container-id-2 div.sk-parallel-item:last-child::after {align-self: flex-start;width: 50%;}#sk-container-id-2 div.sk-parallel-item:only-child::after {width: 0;}#sk-container-id-2 div.sk-dashed-wrapped {border: 1px dashed gray;margin: 0 0.4em 0.5em 0.4em;box-sizing: border-box;padding-bottom: 0.4em;background-color: white;}#sk-container-id-2 div.sk-label label {font-family: monospace;font-weight: bold;display: inline-block;line-height: 1.2em;}#sk-container-id-2 div.sk-label-container {text-align: center;}#sk-container-id-2 div.sk-container {/* jupyter's `normalize.less` sets `[hidden] { display: none; }` but bootstrap.min.css set `[hidden] { display: none !important; }` so we also need the `!important` here to be able to override the default hidden behavior on the sphinx rendered scikit-learn.org. See: https://github.com/scikit-learn/scikit-learn/issues/21755 */display: inline-block !important;position: relative;}#sk-container-id-2 div.sk-text-repr-fallback {display: none;}</style><div id=\"sk-container-id-2\" class=\"sk-top-container\"><div class=\"sk-text-repr-fallback\"><pre>LGBMClassifier()</pre><b>In a Jupyter environment, please rerun this cell to show the HTML representation or trust the notebook. <br />On GitHub, the HTML representation is unable to render, please try loading this page with nbviewer.org.</b></div><div class=\"sk-container\" hidden><div class=\"sk-item\"><div class=\"sk-estimator sk-toggleable\"><input class=\"sk-toggleable__control sk-hidden--visually\" id=\"sk-estimator-id-2\" type=\"checkbox\" checked><label for=\"sk-estimator-id-2\" class=\"sk-toggleable__label sk-toggleable__label-arrow\">LGBMClassifier</label><div class=\"sk-toggleable__content\"><pre>LGBMClassifier()</pre></div></div></div></div></div>"
      ],
      "text/plain": [
       "LGBMClassifier()"
      ]
     },
     "execution_count": 41,
     "metadata": {},
     "output_type": "execute_result"
    }
   ],
   "source": [
    "lgb = LGBMClassifier()\n",
    "evals = [(X_test,y_test)]\n",
    "lgb.fit(X_train,y_train,eval_set=evals,eval_metric='logloss',verbose=True)"
   ]
  },
  {
   "cell_type": "code",
   "execution_count": 42,
   "metadata": {},
   "outputs": [
    {
     "data": {
      "text/plain": [
       "0.8375"
      ]
     },
     "execution_count": 42,
     "metadata": {},
     "output_type": "execute_result"
    }
   ],
   "source": [
    "pred_lgb = lgb.predict(X_test)\n",
    "lgb.score(X_test,y_test)"
   ]
  },
  {
   "cell_type": "code",
   "execution_count": 95,
   "metadata": {},
   "outputs": [],
   "source": [
    "params = {\n",
    "    'n_estimators':[100,150,200],\n",
    "    'max_depth':[4,8,10],\n",
    "    'min_samples_split':[2,3,4,5,6],\n",
    "    # 'max_leaf_nodes' : [6,8,10,20]\n",
    "}"
   ]
  },
  {
   "cell_type": "code",
   "execution_count": 99,
   "metadata": {},
   "outputs": [
    {
     "data": {
      "text/plain": [
       "0.865625"
      ]
     },
     "execution_count": 99,
     "metadata": {},
     "output_type": "execute_result"
    }
   ],
   "source": [
    "from sklearn.ensemble import RandomForestClassifier\n",
    "rfc = RandomForestClassifier(random_state=2023,n_estimators=130)\n",
    "rfc.fit(X_train,y_train)\n",
    "pred_rfc = rfc.predict(X_test)\n",
    "rfc.score(X_test,y_test)"
   ]
  },
  {
   "cell_type": "code",
   "execution_count": 96,
   "metadata": {},
   "outputs": [
    {
     "data": {
      "text/plain": [
       "0.802953431372549"
      ]
     },
     "execution_count": 96,
     "metadata": {},
     "output_type": "execute_result"
    }
   ],
   "source": [
    "rfc2 = RandomForestClassifier()\n",
    "grid_sc = GridSearchCV(rfc2,param_grid=params)\n",
    "grid_sc.fit(X_train, y_train)\n",
    "grid_sc.best_score_"
   ]
  },
  {
   "cell_type": "code",
   "execution_count": null,
   "metadata": {},
   "outputs": [],
   "source": []
  }
 ],
 "metadata": {
  "kernelspec": {
   "display_name": "base",
   "language": "python",
   "name": "python3"
  },
  "language_info": {
   "codemirror_mode": {
    "name": "ipython",
    "version": 3
   },
   "file_extension": ".py",
   "mimetype": "text/x-python",
   "name": "python",
   "nbconvert_exporter": "python",
   "pygments_lexer": "ipython3",
   "version": "3.10.10"
  },
  "orig_nbformat": 4
 },
 "nbformat": 4,
 "nbformat_minor": 2
}
